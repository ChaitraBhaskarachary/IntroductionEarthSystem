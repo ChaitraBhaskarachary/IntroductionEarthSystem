{
 "cells": [
  {
   "cell_type": "markdown",
   "metadata": {},
   "source": [
    "## Task 2.3\n",
    "\n",
    "Please download and install any two of the GUI tools (e..g for opening HDF or netCDF) listed above and in the resources. Please open any data product, document with screenshots and describe eventual difficulties.\n"
   ]
  },
  {
   "cell_type": "markdown",
   "metadata": {},
   "source": [
    "**Panoply**\n",
    "\n",
    "* Nasa Panoply netCDF, HDF, Grib viewer - \n",
    "This tool requires a machine with JAVA SE8 installed.  Download extract and run the application. Download the grided data as NetCDF "
   ]
  },
  {
   "cell_type": "markdown",
   "metadata": {},
   "source": [
    "![Panoply](/notebooks/Desktop/temperature_in_zonmap.png)"
   ]
  },
  {
   "cell_type": "markdown",
   "metadata": {},
   "source": [
    "**Veusz - a scientific plotting package**\n",
    "\n",
    "* There was difficulty in understanding the graphs, since data downloaded was different and dint know how to visualise. Basically not clear with the usage of the tool\n"
   ]
  },
  {
   "cell_type": "markdown",
   "metadata": {},
   "source": [
    "![veusz](/notebooks/Desktop/v.png)"
   ]
  },
  {
   "cell_type": "code",
   "execution_count": null,
   "metadata": {},
   "outputs": [],
   "source": []
  }
 ],
 "metadata": {
  "kernelspec": {
   "display_name": "Python 3",
   "language": "python",
   "name": "python3"
  },
  "language_info": {
   "codemirror_mode": {
    "name": "ipython",
    "version": 3
   },
   "file_extension": ".py",
   "mimetype": "text/x-python",
   "name": "python",
   "nbconvert_exporter": "python",
   "pygments_lexer": "ipython3",
   "version": "3.7.1"
  }
 },
 "nbformat": 4,
 "nbformat_minor": 2
}
