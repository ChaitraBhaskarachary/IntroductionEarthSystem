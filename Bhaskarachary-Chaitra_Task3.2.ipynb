{
 "cells": [
  {
   "cell_type": "markdown",
   "metadata": {},
   "source": [
    "# Task 3.2\n",
    "**Please create a local directory with sub-directories for each of the data products. Please place in each directory the relevant file and as much metadata (e.g. in a simple text file, and/or with associated headers or alike)**"
   ]
  },
  {
   "cell_type": "markdown",
   "metadata": {},
   "source": [
    "**Please Refer to piggy:** \n",
    "\n",
    "The datasets can be found on pigggy server \n",
    "Path : /usr/data/Samba/gerda/Fall2018/DE/Chaitra_Bhaskarachary/IntroEarthSysData/Day3/EEA_Coastline_Polyline_Shape"
   ]
  },
  {
   "cell_type": "code",
   "execution_count": null,
   "metadata": {},
   "outputs": [],
   "source": []
  }
 ],
 "metadata": {
  "kernelspec": {
   "display_name": "Python 3",
   "language": "python",
   "name": "python3"
  },
  "language_info": {
   "codemirror_mode": {
    "name": "ipython",
    "version": 3
   },
   "file_extension": ".py",
   "mimetype": "text/x-python",
   "name": "python",
   "nbconvert_exporter": "python",
   "pygments_lexer": "ipython3",
   "version": "3.7.1"
  }
 },
 "nbformat": 4,
 "nbformat_minor": 2
}
