{
 "cells": [
  {
   "cell_type": "markdown",
   "metadata": {},
   "source": [
    "# Task 3.1 \n",
    "\n",
    "**Please try download at least 3 files (data products) of 3 different formats from any of the archives above (no programmatic access, download-only ones). Please track the provenance of the file (URL, FTP, basic metadata you can grab)"
   ]
  },
  {
   "cell_type": "markdown",
   "metadata": {},
   "source": [
    "**1)Downloaded data from National Weather Service**\n",
    "\n",
    "https://water.weather.gov/ahps/download.php \n",
    "\n",
    "The dataset has been uploaded in piggy and the path:  /usr/data/Samba/gerda/Fall2018/DE/Chaitra_Bhaskarachary/IntroEarthSysData/Day3/National weather services"
   ]
  },
  {
   "cell_type": "markdown",
   "metadata": {},
   "source": [
    "**2)Downloaded Data from Panagea - Sea ice concentration during POLARSTERN cruise PS93.2.**\n",
    "\n",
    "The dataset can be found on pigggy server : /usr/data/Samba/gerda/Fall2018/DE/Chaitra_Bhaskarachary/IntroEarthSysData/Day3/Bergmann-etal_2017/datasets"
   ]
  },
  {
   "cell_type": "markdown",
   "metadata": {},
   "source": [
    "**3)Downloaded Data from European Enviromental Agency - EEA Coastline for analysis**\n",
    "https://www.eea.europa.eu/data-and-maps/data/eea-coastline-for-analysis-2#tab-metadata\n",
    "\n",
    "The dataset can be found on pigggy server \n",
    "Path : /usr/data/Samba/gerda/Fall2018/DE/Chaitra_Bhaskarachary/IntroEarthSysData/Day3/EEA_Coastline_Polyline_Shape"
   ]
  },
  {
   "cell_type": "markdown",
   "metadata": {},
   "source": [
    "# Task 3.3 \n",
    "Please get any data from panagea"
   ]
  },
  {
   "cell_type": "markdown",
   "metadata": {},
   "source": [
    "**Dataset : Sea ice concentration during POLARSTERN cruise PS93.2.**\n",
    "\n",
    "The dataset can be found on pigggy server : /usr/data/Samba/gerda/Fall2018/DE/Chaitra_Bhaskarachary/IntroEarthSysData/Day3/Bergmann-etal_2017/datasets"
   ]
  },
  {
   "cell_type": "code",
   "execution_count": null,
   "metadata": {},
   "outputs": [],
   "source": []
  }
 ],
 "metadata": {
  "kernelspec": {
   "display_name": "Python 3",
   "language": "python",
   "name": "python3"
  },
  "language_info": {
   "codemirror_mode": {
    "name": "ipython",
    "version": 3
   },
   "file_extension": ".py",
   "mimetype": "text/x-python",
   "name": "python",
   "nbconvert_exporter": "python",
   "pygments_lexer": "ipython3",
   "version": "3.7.1"
  }
 },
 "nbformat": 4,
 "nbformat_minor": 2
}
