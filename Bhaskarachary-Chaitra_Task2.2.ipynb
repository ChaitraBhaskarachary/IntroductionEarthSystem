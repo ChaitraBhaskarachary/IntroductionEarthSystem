{
 "cells": [
  {
   "cell_type": "markdown",
   "metadata": {},
   "source": [
    "# Task 2.2\n",
    "\n",
    "Please list the advantages and disadvantages of each web interface you encountered. A bullet list is appropriate."
   ]
  },
  {
   "cell_type": "markdown",
   "metadata": {},
   "source": [
    "# Giovanni \n",
    "**Advantages**\n",
    "\n",
    "* No need to download tons of data\n",
    "* Useful as a 'first look', if we know exactly what data you want \n",
    "* No more programming required \n",
    "\n",
    "**Disadvantages**\n",
    "\n",
    "* Can be slow for large amounts of data\n",
    "* Limited to maximum resolution of 8 day, 4km data for NASA satellites only \n",
    "* Cannot extract time series from irregular shaped areas \n",
    "* No inland waters "
   ]
  },
  {
   "cell_type": "code",
   "execution_count": null,
   "metadata": {},
   "outputs": [],
   "source": []
  }
 ],
 "metadata": {
  "kernelspec": {
   "display_name": "Python 3",
   "language": "python",
   "name": "python3"
  },
  "language_info": {
   "codemirror_mode": {
    "name": "ipython",
    "version": 3
   },
   "file_extension": ".py",
   "mimetype": "text/x-python",
   "name": "python",
   "nbconvert_exporter": "python",
   "pygments_lexer": "ipython3",
   "version": "3.7.1"
  }
 },
 "nbformat": 4,
 "nbformat_minor": 2
}
