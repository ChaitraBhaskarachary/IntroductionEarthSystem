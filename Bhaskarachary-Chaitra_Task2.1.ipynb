{
 "cells": [
  {
   "cell_type": "markdown",
   "metadata": {},
   "source": [
    "# Task 2.1 \n",
    "please inspect the web services above. Document with screenshot and short description (1 sentence) of how the interface looks like. Please document your impression on the ease of use."
   ]
  },
  {
   "cell_type": "markdown",
   "metadata": {},
   "source": [
    "**1. GIOVANNI**\n",
    "\n",
    "https://giovanni.gsfc.nasa.gov/giovanni/\n",
    "http://localhost:8889/notebooks/Desktop/IntroEarthData/notebooks/Task1.ipynb#\n",
    "\n",
    "\n",
    "Giovanni is an online environment for the display and analysis of geophysical parameters in which the provenance (data lineage) can easily be accessed. Using Giovanni UI it is possible to easily find and display selected data on various types of plots and also one can download the plot source files in various formats. \n",
    "\n",
    "   "
   ]
  },
  {
   "cell_type": "code",
   "execution_count": 1,
   "metadata": {},
   "outputs": [],
   "source": [
    "#Visualisation of Area-averaged of Iron deposits on monthly basis, during Jan 2000-Dec 2018 in the Indian Region \n"
   ]
  },
  {
   "cell_type": "markdown",
   "metadata": {},
   "source": [
    "![Using Giovanni](/notebooks/Desktop/GIOVANNI-output.png)"
   ]
  },
  {
   "cell_type": "markdown",
   "metadata": {},
   "source": [
    "**2.NASA Ocean Motion Viewer** \n",
    "\n",
    "contains a comprehensive review of the surface circulation of Earth's ocean and classroom investigations appropraite for various disciplines at high school level. \n",
    "\n",
    "**Figure shows the Sea temperature visualizer in the southwest pacific region during the year 2000 JUN**"
   ]
  },
  {
   "cell_type": "markdown",
   "metadata": {},
   "source": [
    "![Using Ocean Motion viewer](/notebooks/Desktop/OM.png)"
   ]
  },
  {
   "cell_type": "markdown",
   "metadata": {},
   "source": [
    "**3.The UNAVCO GPS Viewer allows exploration of PBO-site geodetic plate velocities, or your own geodetic velocities**"
   ]
  },
  {
   "cell_type": "markdown",
   "metadata": {},
   "source": [
    "![Unavco GPS viewer](/notebooks/Desktop/GPSviewer.png)"
   ]
  },
  {
   "cell_type": "markdown",
   "metadata": {},
   "source": [
    "**4.Copernicus Global Food Awareness systems**\n",
    "![Copernicus global food awareness systems](/notebooks/Desktop/CUdataportal.png)"
   ]
  },
  {
   "cell_type": "code",
   "execution_count": null,
   "metadata": {},
   "outputs": [],
   "source": []
  }
 ],
 "metadata": {
  "kernelspec": {
   "display_name": "Python 3",
   "language": "python",
   "name": "python3"
  },
  "language_info": {
   "codemirror_mode": {
    "name": "ipython",
    "version": 3
   },
   "file_extension": ".py",
   "mimetype": "text/x-python",
   "name": "python",
   "nbconvert_exporter": "python",
   "pygments_lexer": "ipython3",
   "version": "3.7.1"
  }
 },
 "nbformat": 4,
 "nbformat_minor": 2
}
